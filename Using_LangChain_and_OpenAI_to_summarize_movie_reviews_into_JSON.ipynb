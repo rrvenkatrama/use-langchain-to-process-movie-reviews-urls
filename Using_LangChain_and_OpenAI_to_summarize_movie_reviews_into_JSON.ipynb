{
  "nbformat": 4,
  "nbformat_minor": 0,
  "metadata": {
    "colab": {
      "provenance": [],
      "mount_file_id": "1WMmr2hJr4imY7NpW-nG86Y2P--S7LMuX",
      "authorship_tag": "ABX9TyPs3GsaPlaiPFWEmGwzK6Ta"
    },
    "kernelspec": {
      "name": "python3",
      "display_name": "Python 3"
    },
    "language_info": {
      "name": "python"
    }
  },
  "cells": [
    {
      "cell_type": "code",
      "execution_count": 70,
      "metadata": {
        "colab": {
          "base_uri": "https://localhost:8080/"
        },
        "id": "pAWgz4yO1iMD",
        "outputId": "8ce1f834-abec-40c9-a48a-8d31539e5458",
        "collapsed": true
      },
      "outputs": [
        {
          "output_type": "stream",
          "name": "stdout",
          "text": [
            "Requirement already satisfied: openai==0.28 in /usr/local/lib/python3.11/dist-packages (0.28.0)\n",
            "Requirement already satisfied: requests>=2.20 in /usr/local/lib/python3.11/dist-packages (from openai==0.28) (2.32.3)\n",
            "Requirement already satisfied: tqdm in /usr/local/lib/python3.11/dist-packages (from openai==0.28) (4.67.1)\n",
            "Requirement already satisfied: aiohttp in /usr/local/lib/python3.11/dist-packages (from openai==0.28) (3.11.15)\n",
            "Requirement already satisfied: charset-normalizer<4,>=2 in /usr/local/lib/python3.11/dist-packages (from requests>=2.20->openai==0.28) (3.4.2)\n",
            "Requirement already satisfied: idna<4,>=2.5 in /usr/local/lib/python3.11/dist-packages (from requests>=2.20->openai==0.28) (3.10)\n",
            "Requirement already satisfied: urllib3<3,>=1.21.1 in /usr/local/lib/python3.11/dist-packages (from requests>=2.20->openai==0.28) (2.4.0)\n",
            "Requirement already satisfied: certifi>=2017.4.17 in /usr/local/lib/python3.11/dist-packages (from requests>=2.20->openai==0.28) (2025.4.26)\n",
            "Requirement already satisfied: aiohappyeyeballs>=2.3.0 in /usr/local/lib/python3.11/dist-packages (from aiohttp->openai==0.28) (2.6.1)\n",
            "Requirement already satisfied: aiosignal>=1.1.2 in /usr/local/lib/python3.11/dist-packages (from aiohttp->openai==0.28) (1.3.2)\n",
            "Requirement already satisfied: attrs>=17.3.0 in /usr/local/lib/python3.11/dist-packages (from aiohttp->openai==0.28) (25.3.0)\n",
            "Requirement already satisfied: frozenlist>=1.1.1 in /usr/local/lib/python3.11/dist-packages (from aiohttp->openai==0.28) (1.6.0)\n",
            "Requirement already satisfied: multidict<7.0,>=4.5 in /usr/local/lib/python3.11/dist-packages (from aiohttp->openai==0.28) (6.4.4)\n",
            "Requirement already satisfied: propcache>=0.2.0 in /usr/local/lib/python3.11/dist-packages (from aiohttp->openai==0.28) (0.3.1)\n",
            "Requirement already satisfied: yarl<2.0,>=1.17.0 in /usr/local/lib/python3.11/dist-packages (from aiohttp->openai==0.28) (1.20.0)\n",
            "Requirement already satisfied: dotenv in /usr/local/lib/python3.11/dist-packages (0.9.9)\n",
            "Requirement already satisfied: python-dotenv in /usr/local/lib/python3.11/dist-packages (from dotenv) (1.1.0)\n",
            "Requirement already satisfied: lxml_html_clean in /usr/local/lib/python3.11/dist-packages (0.4.2)\n",
            "Requirement already satisfied: lxml in /usr/local/lib/python3.11/dist-packages (from lxml_html_clean) (5.4.0)\n",
            "Requirement already satisfied: newspaper3k in /usr/local/lib/python3.11/dist-packages (0.2.8)\n",
            "Requirement already satisfied: beautifulsoup4>=4.4.1 in /usr/local/lib/python3.11/dist-packages (from newspaper3k) (4.13.4)\n",
            "Requirement already satisfied: Pillow>=3.3.0 in /usr/local/lib/python3.11/dist-packages (from newspaper3k) (11.2.1)\n",
            "Requirement already satisfied: PyYAML>=3.11 in /usr/local/lib/python3.11/dist-packages (from newspaper3k) (6.0.2)\n",
            "Requirement already satisfied: cssselect>=0.9.2 in /usr/local/lib/python3.11/dist-packages (from newspaper3k) (1.3.0)\n",
            "Requirement already satisfied: lxml>=3.6.0 in /usr/local/lib/python3.11/dist-packages (from newspaper3k) (5.4.0)\n",
            "Requirement already satisfied: nltk>=3.2.1 in /usr/local/lib/python3.11/dist-packages (from newspaper3k) (3.9.1)\n",
            "Requirement already satisfied: requests>=2.10.0 in /usr/local/lib/python3.11/dist-packages (from newspaper3k) (2.32.3)\n",
            "Requirement already satisfied: feedparser>=5.2.1 in /usr/local/lib/python3.11/dist-packages (from newspaper3k) (6.0.11)\n",
            "Requirement already satisfied: tldextract>=2.0.1 in /usr/local/lib/python3.11/dist-packages (from newspaper3k) (5.3.0)\n",
            "Requirement already satisfied: feedfinder2>=0.0.4 in /usr/local/lib/python3.11/dist-packages (from newspaper3k) (0.0.4)\n",
            "Requirement already satisfied: jieba3k>=0.35.1 in /usr/local/lib/python3.11/dist-packages (from newspaper3k) (0.35.1)\n",
            "Requirement already satisfied: python-dateutil>=2.5.3 in /usr/local/lib/python3.11/dist-packages (from newspaper3k) (2.9.0.post0)\n",
            "Requirement already satisfied: tinysegmenter==0.3 in /usr/local/lib/python3.11/dist-packages (from newspaper3k) (0.3)\n",
            "Requirement already satisfied: soupsieve>1.2 in /usr/local/lib/python3.11/dist-packages (from beautifulsoup4>=4.4.1->newspaper3k) (2.7)\n",
            "Requirement already satisfied: typing-extensions>=4.0.0 in /usr/local/lib/python3.11/dist-packages (from beautifulsoup4>=4.4.1->newspaper3k) (4.14.0)\n",
            "Requirement already satisfied: six in /usr/local/lib/python3.11/dist-packages (from feedfinder2>=0.0.4->newspaper3k) (1.17.0)\n",
            "Requirement already satisfied: sgmllib3k in /usr/local/lib/python3.11/dist-packages (from feedparser>=5.2.1->newspaper3k) (1.0.0)\n",
            "Requirement already satisfied: click in /usr/local/lib/python3.11/dist-packages (from nltk>=3.2.1->newspaper3k) (8.2.1)\n",
            "Requirement already satisfied: joblib in /usr/local/lib/python3.11/dist-packages (from nltk>=3.2.1->newspaper3k) (1.5.1)\n",
            "Requirement already satisfied: regex>=2021.8.3 in /usr/local/lib/python3.11/dist-packages (from nltk>=3.2.1->newspaper3k) (2024.11.6)\n",
            "Requirement already satisfied: tqdm in /usr/local/lib/python3.11/dist-packages (from nltk>=3.2.1->newspaper3k) (4.67.1)\n",
            "Requirement already satisfied: charset-normalizer<4,>=2 in /usr/local/lib/python3.11/dist-packages (from requests>=2.10.0->newspaper3k) (3.4.2)\n",
            "Requirement already satisfied: idna<4,>=2.5 in /usr/local/lib/python3.11/dist-packages (from requests>=2.10.0->newspaper3k) (3.10)\n",
            "Requirement already satisfied: urllib3<3,>=1.21.1 in /usr/local/lib/python3.11/dist-packages (from requests>=2.10.0->newspaper3k) (2.4.0)\n",
            "Requirement already satisfied: certifi>=2017.4.17 in /usr/local/lib/python3.11/dist-packages (from requests>=2.10.0->newspaper3k) (2025.4.26)\n",
            "Requirement already satisfied: requests-file>=1.4 in /usr/local/lib/python3.11/dist-packages (from tldextract>=2.0.1->newspaper3k) (2.1.0)\n",
            "Requirement already satisfied: filelock>=3.0.8 in /usr/local/lib/python3.11/dist-packages (from tldextract>=2.0.1->newspaper3k) (3.18.0)\n",
            "Requirement already satisfied: langchain_community in /usr/local/lib/python3.11/dist-packages (0.3.24)\n",
            "Requirement already satisfied: langchain-core<1.0.0,>=0.3.59 in /usr/local/lib/python3.11/dist-packages (from langchain_community) (0.3.63)\n",
            "Requirement already satisfied: langchain<1.0.0,>=0.3.25 in /usr/local/lib/python3.11/dist-packages (from langchain_community) (0.3.25)\n",
            "Requirement already satisfied: SQLAlchemy<3,>=1.4 in /usr/local/lib/python3.11/dist-packages (from langchain_community) (2.0.41)\n",
            "Requirement already satisfied: requests<3,>=2 in /usr/local/lib/python3.11/dist-packages (from langchain_community) (2.32.3)\n",
            "Requirement already satisfied: PyYAML>=5.3 in /usr/local/lib/python3.11/dist-packages (from langchain_community) (6.0.2)\n",
            "Requirement already satisfied: aiohttp<4.0.0,>=3.8.3 in /usr/local/lib/python3.11/dist-packages (from langchain_community) (3.11.15)\n",
            "Requirement already satisfied: tenacity!=8.4.0,<10,>=8.1.0 in /usr/local/lib/python3.11/dist-packages (from langchain_community) (9.1.2)\n",
            "Requirement already satisfied: dataclasses-json<0.7,>=0.5.7 in /usr/local/lib/python3.11/dist-packages (from langchain_community) (0.6.7)\n",
            "Requirement already satisfied: pydantic-settings<3.0.0,>=2.4.0 in /usr/local/lib/python3.11/dist-packages (from langchain_community) (2.9.1)\n",
            "Requirement already satisfied: langsmith<0.4,>=0.1.125 in /usr/local/lib/python3.11/dist-packages (from langchain_community) (0.3.44)\n",
            "Requirement already satisfied: httpx-sse<1.0.0,>=0.4.0 in /usr/local/lib/python3.11/dist-packages (from langchain_community) (0.4.0)\n",
            "Requirement already satisfied: numpy>=1.26.2 in /usr/local/lib/python3.11/dist-packages (from langchain_community) (2.0.2)\n",
            "Requirement already satisfied: aiohappyeyeballs>=2.3.0 in /usr/local/lib/python3.11/dist-packages (from aiohttp<4.0.0,>=3.8.3->langchain_community) (2.6.1)\n",
            "Requirement already satisfied: aiosignal>=1.1.2 in /usr/local/lib/python3.11/dist-packages (from aiohttp<4.0.0,>=3.8.3->langchain_community) (1.3.2)\n",
            "Requirement already satisfied: attrs>=17.3.0 in /usr/local/lib/python3.11/dist-packages (from aiohttp<4.0.0,>=3.8.3->langchain_community) (25.3.0)\n",
            "Requirement already satisfied: frozenlist>=1.1.1 in /usr/local/lib/python3.11/dist-packages (from aiohttp<4.0.0,>=3.8.3->langchain_community) (1.6.0)\n",
            "Requirement already satisfied: multidict<7.0,>=4.5 in /usr/local/lib/python3.11/dist-packages (from aiohttp<4.0.0,>=3.8.3->langchain_community) (6.4.4)\n",
            "Requirement already satisfied: propcache>=0.2.0 in /usr/local/lib/python3.11/dist-packages (from aiohttp<4.0.0,>=3.8.3->langchain_community) (0.3.1)\n",
            "Requirement already satisfied: yarl<2.0,>=1.17.0 in /usr/local/lib/python3.11/dist-packages (from aiohttp<4.0.0,>=3.8.3->langchain_community) (1.20.0)\n",
            "Requirement already satisfied: marshmallow<4.0.0,>=3.18.0 in /usr/local/lib/python3.11/dist-packages (from dataclasses-json<0.7,>=0.5.7->langchain_community) (3.26.1)\n",
            "Requirement already satisfied: typing-inspect<1,>=0.4.0 in /usr/local/lib/python3.11/dist-packages (from dataclasses-json<0.7,>=0.5.7->langchain_community) (0.9.0)\n",
            "Requirement already satisfied: langchain-text-splitters<1.0.0,>=0.3.8 in /usr/local/lib/python3.11/dist-packages (from langchain<1.0.0,>=0.3.25->langchain_community) (0.3.8)\n",
            "Requirement already satisfied: pydantic<3.0.0,>=2.7.4 in /usr/local/lib/python3.11/dist-packages (from langchain<1.0.0,>=0.3.25->langchain_community) (2.11.5)\n",
            "Requirement already satisfied: jsonpatch<2.0,>=1.33 in /usr/local/lib/python3.11/dist-packages (from langchain-core<1.0.0,>=0.3.59->langchain_community) (1.33)\n",
            "Requirement already satisfied: packaging<25,>=23.2 in /usr/local/lib/python3.11/dist-packages (from langchain-core<1.0.0,>=0.3.59->langchain_community) (24.2)\n",
            "Requirement already satisfied: typing-extensions>=4.7 in /usr/local/lib/python3.11/dist-packages (from langchain-core<1.0.0,>=0.3.59->langchain_community) (4.14.0)\n",
            "Requirement already satisfied: httpx<1,>=0.23.0 in /usr/local/lib/python3.11/dist-packages (from langsmith<0.4,>=0.1.125->langchain_community) (0.28.1)\n",
            "Requirement already satisfied: orjson<4.0.0,>=3.9.14 in /usr/local/lib/python3.11/dist-packages (from langsmith<0.4,>=0.1.125->langchain_community) (3.10.18)\n",
            "Requirement already satisfied: requests-toolbelt<2.0.0,>=1.0.0 in /usr/local/lib/python3.11/dist-packages (from langsmith<0.4,>=0.1.125->langchain_community) (1.0.0)\n",
            "Requirement already satisfied: zstandard<0.24.0,>=0.23.0 in /usr/local/lib/python3.11/dist-packages (from langsmith<0.4,>=0.1.125->langchain_community) (0.23.0)\n",
            "Requirement already satisfied: python-dotenv>=0.21.0 in /usr/local/lib/python3.11/dist-packages (from pydantic-settings<3.0.0,>=2.4.0->langchain_community) (1.1.0)\n",
            "Requirement already satisfied: typing-inspection>=0.4.0 in /usr/local/lib/python3.11/dist-packages (from pydantic-settings<3.0.0,>=2.4.0->langchain_community) (0.4.1)\n",
            "Requirement already satisfied: charset-normalizer<4,>=2 in /usr/local/lib/python3.11/dist-packages (from requests<3,>=2->langchain_community) (3.4.2)\n",
            "Requirement already satisfied: idna<4,>=2.5 in /usr/local/lib/python3.11/dist-packages (from requests<3,>=2->langchain_community) (3.10)\n",
            "Requirement already satisfied: urllib3<3,>=1.21.1 in /usr/local/lib/python3.11/dist-packages (from requests<3,>=2->langchain_community) (2.4.0)\n",
            "Requirement already satisfied: certifi>=2017.4.17 in /usr/local/lib/python3.11/dist-packages (from requests<3,>=2->langchain_community) (2025.4.26)\n",
            "Requirement already satisfied: greenlet>=1 in /usr/local/lib/python3.11/dist-packages (from SQLAlchemy<3,>=1.4->langchain_community) (3.2.2)\n",
            "Requirement already satisfied: anyio in /usr/local/lib/python3.11/dist-packages (from httpx<1,>=0.23.0->langsmith<0.4,>=0.1.125->langchain_community) (4.9.0)\n",
            "Requirement already satisfied: httpcore==1.* in /usr/local/lib/python3.11/dist-packages (from httpx<1,>=0.23.0->langsmith<0.4,>=0.1.125->langchain_community) (1.0.9)\n",
            "Requirement already satisfied: h11>=0.16 in /usr/local/lib/python3.11/dist-packages (from httpcore==1.*->httpx<1,>=0.23.0->langsmith<0.4,>=0.1.125->langchain_community) (0.16.0)\n",
            "Requirement already satisfied: jsonpointer>=1.9 in /usr/local/lib/python3.11/dist-packages (from jsonpatch<2.0,>=1.33->langchain-core<1.0.0,>=0.3.59->langchain_community) (3.0.0)\n",
            "Requirement already satisfied: annotated-types>=0.6.0 in /usr/local/lib/python3.11/dist-packages (from pydantic<3.0.0,>=2.7.4->langchain<1.0.0,>=0.3.25->langchain_community) (0.7.0)\n",
            "Requirement already satisfied: pydantic-core==2.33.2 in /usr/local/lib/python3.11/dist-packages (from pydantic<3.0.0,>=2.7.4->langchain<1.0.0,>=0.3.25->langchain_community) (2.33.2)\n",
            "Requirement already satisfied: mypy-extensions>=0.3.0 in /usr/local/lib/python3.11/dist-packages (from typing-inspect<1,>=0.4.0->dataclasses-json<0.7,>=0.5.7->langchain_community) (1.1.0)\n",
            "Requirement already satisfied: sniffio>=1.1 in /usr/local/lib/python3.11/dist-packages (from anyio->httpx<1,>=0.23.0->langsmith<0.4,>=0.1.125->langchain_community) (1.3.1)\n",
            "Requirement already satisfied: langchain in /usr/local/lib/python3.11/dist-packages (0.3.25)\n",
            "Requirement already satisfied: langchain-core<1.0.0,>=0.3.58 in /usr/local/lib/python3.11/dist-packages (from langchain) (0.3.63)\n",
            "Requirement already satisfied: langchain-text-splitters<1.0.0,>=0.3.8 in /usr/local/lib/python3.11/dist-packages (from langchain) (0.3.8)\n",
            "Requirement already satisfied: langsmith<0.4,>=0.1.17 in /usr/local/lib/python3.11/dist-packages (from langchain) (0.3.44)\n",
            "Requirement already satisfied: pydantic<3.0.0,>=2.7.4 in /usr/local/lib/python3.11/dist-packages (from langchain) (2.11.5)\n",
            "Requirement already satisfied: SQLAlchemy<3,>=1.4 in /usr/local/lib/python3.11/dist-packages (from langchain) (2.0.41)\n",
            "Requirement already satisfied: requests<3,>=2 in /usr/local/lib/python3.11/dist-packages (from langchain) (2.32.3)\n",
            "Requirement already satisfied: PyYAML>=5.3 in /usr/local/lib/python3.11/dist-packages (from langchain) (6.0.2)\n",
            "Requirement already satisfied: tenacity!=8.4.0,<10.0.0,>=8.1.0 in /usr/local/lib/python3.11/dist-packages (from langchain-core<1.0.0,>=0.3.58->langchain) (9.1.2)\n",
            "Requirement already satisfied: jsonpatch<2.0,>=1.33 in /usr/local/lib/python3.11/dist-packages (from langchain-core<1.0.0,>=0.3.58->langchain) (1.33)\n",
            "Requirement already satisfied: packaging<25,>=23.2 in /usr/local/lib/python3.11/dist-packages (from langchain-core<1.0.0,>=0.3.58->langchain) (24.2)\n",
            "Requirement already satisfied: typing-extensions>=4.7 in /usr/local/lib/python3.11/dist-packages (from langchain-core<1.0.0,>=0.3.58->langchain) (4.14.0)\n",
            "Requirement already satisfied: httpx<1,>=0.23.0 in /usr/local/lib/python3.11/dist-packages (from langsmith<0.4,>=0.1.17->langchain) (0.28.1)\n",
            "Requirement already satisfied: orjson<4.0.0,>=3.9.14 in /usr/local/lib/python3.11/dist-packages (from langsmith<0.4,>=0.1.17->langchain) (3.10.18)\n",
            "Requirement already satisfied: requests-toolbelt<2.0.0,>=1.0.0 in /usr/local/lib/python3.11/dist-packages (from langsmith<0.4,>=0.1.17->langchain) (1.0.0)\n",
            "Requirement already satisfied: zstandard<0.24.0,>=0.23.0 in /usr/local/lib/python3.11/dist-packages (from langsmith<0.4,>=0.1.17->langchain) (0.23.0)\n",
            "Requirement already satisfied: annotated-types>=0.6.0 in /usr/local/lib/python3.11/dist-packages (from pydantic<3.0.0,>=2.7.4->langchain) (0.7.0)\n",
            "Requirement already satisfied: pydantic-core==2.33.2 in /usr/local/lib/python3.11/dist-packages (from pydantic<3.0.0,>=2.7.4->langchain) (2.33.2)\n",
            "Requirement already satisfied: typing-inspection>=0.4.0 in /usr/local/lib/python3.11/dist-packages (from pydantic<3.0.0,>=2.7.4->langchain) (0.4.1)\n",
            "Requirement already satisfied: charset-normalizer<4,>=2 in /usr/local/lib/python3.11/dist-packages (from requests<3,>=2->langchain) (3.4.2)\n",
            "Requirement already satisfied: idna<4,>=2.5 in /usr/local/lib/python3.11/dist-packages (from requests<3,>=2->langchain) (3.10)\n",
            "Requirement already satisfied: urllib3<3,>=1.21.1 in /usr/local/lib/python3.11/dist-packages (from requests<3,>=2->langchain) (2.4.0)\n",
            "Requirement already satisfied: certifi>=2017.4.17 in /usr/local/lib/python3.11/dist-packages (from requests<3,>=2->langchain) (2025.4.26)\n",
            "Requirement already satisfied: greenlet>=1 in /usr/local/lib/python3.11/dist-packages (from SQLAlchemy<3,>=1.4->langchain) (3.2.2)\n",
            "Requirement already satisfied: anyio in /usr/local/lib/python3.11/dist-packages (from httpx<1,>=0.23.0->langsmith<0.4,>=0.1.17->langchain) (4.9.0)\n",
            "Requirement already satisfied: httpcore==1.* in /usr/local/lib/python3.11/dist-packages (from httpx<1,>=0.23.0->langsmith<0.4,>=0.1.17->langchain) (1.0.9)\n",
            "Requirement already satisfied: h11>=0.16 in /usr/local/lib/python3.11/dist-packages (from httpcore==1.*->httpx<1,>=0.23.0->langsmith<0.4,>=0.1.17->langchain) (0.16.0)\n",
            "Requirement already satisfied: jsonpointer>=1.9 in /usr/local/lib/python3.11/dist-packages (from jsonpatch<2.0,>=1.33->langchain-core<1.0.0,>=0.3.58->langchain) (3.0.0)\n",
            "Requirement already satisfied: sniffio>=1.1 in /usr/local/lib/python3.11/dist-packages (from anyio->httpx<1,>=0.23.0->langsmith<0.4,>=0.1.17->langchain) (1.3.1)\n"
          ]
        }
      ],
      "source": [
        "!pip install openai==0.28\n",
        "!pip install dotenv\n",
        "!pip install lxml_html_clean\n",
        "!pip install newspaper3k\n",
        "!pip install langchain_community\n",
        "!pip install --upgrade langchain\n",
        "import openai\n",
        "import os\n",
        "from langchain.prompts import ChatPromptTemplate\n",
        "from newspaper import Article\n",
        "from langchain.output_parsers import ResponseSchema\n",
        "from langchain.output_parsers import StructuredOutputParser\n"
      ]
    },
    {
      "cell_type": "code",
      "source": [
        "# Read the OpenAPI Key from my Google Drive\n",
        "# Have your OpenAI key defined in a file such as myenv.env or your choice\n",
        "# myenv.env: OPEN_API_KEY = <your open API key>\n",
        "from google.colab import drive\n",
        "drive.mount('/content/drive')\n",
        "from dotenv import load_dotenv, find_dotenv\n",
        "_ = load_dotenv(find_dotenv('/content/drive/MyDrive/myenv.env')) # read local .env file\n",
        "#openai.api_key = os.environ['OPEN_API_KEY']\n",
        "#print (openai.api_key)"
      ],
      "metadata": {
        "id": "MGE2kxzv7qZi",
        "colab": {
          "base_uri": "https://localhost:8080/"
        },
        "outputId": "8be92540-4614-40b0-d665-da7b04894eca"
      },
      "execution_count": 71,
      "outputs": [
        {
          "output_type": "stream",
          "name": "stdout",
          "text": [
            "Drive already mounted at /content/drive; to attempt to forcibly remount, call drive.mount(\"/content/drive\", force_remount=True).\n"
          ]
        }
      ]
    },
    {
      "cell_type": "code",
      "source": [
        "\n",
        "from langchain.chat_models import ChatOpenAI\n",
        "llm_model = \"gpt-3.5-turbo\"\n",
        "#llm_model = \"gpt-4\"\n",
        "# To control the randomness and creativity of the generated\n",
        "# text by an LLM, use temperature = 0.0\n",
        "chat = ChatOpenAI(temperature=0.0, model=llm_model, openai_api_key=os.environ['OPEN_API_KEY'])\n"
      ],
      "metadata": {
        "id": "ZNtcD_nFXOhH"
      },
      "execution_count": 72,
      "outputs": []
    },
    {
      "cell_type": "code",
      "source": [
        "\n",
        "\n",
        "url = input(\"Enter the movie reviview article URL: \")\n",
        "article = Article(url)\n",
        "article.download()\n",
        "article.parse()\n",
        "print(\"\\nTitle:\", article.title)\n",
        "print(\"\\nText:\\n\", article.text)\n",
        "review_text = article.text\n",
        "\n"
      ],
      "metadata": {
        "id": "nHgac8FEcsPp",
        "colab": {
          "base_uri": "https://localhost:8080/"
        },
        "outputId": "a27806af-237b-43ca-a50c-4384bd88e124"
      },
      "execution_count": 73,
      "outputs": [
        {
          "output_type": "stream",
          "name": "stdout",
          "text": [
            "Enter the movie reviview article URL: https://www.thehindu.com/entertainment/movies/indian-2-movie-review-kamal-haasan-shankars-underwhelming-sequel-relies-more-on-its-past-legacy-and-future-promise/article68396577.ece\n",
            "\n",
            "Title: ‘Indian 2’ movie review: Kamal Haasan, Shankar’s underwhelming sequel relies more on its past legacy and future promise\n",
            "\n",
            "Text:\n",
            " After making his debut with the Robin Hood-esque Gentleman and mounting a simple love story on a complex political backdrop with his sophomore film Kadhalan, director Shankar dialled it up to eleven with his third film, Indian. Apart from the trope of a former freedom fighter taking up arms against those decimating his country, the poignant backstory gave the titular hero a reason to turn vigilante, a cause worth sacrificing even his own son. This sense of emotional turmoil the character had and the empathy it rightfully extracted from us are just some of the many crucial elements that the sequel Indian 2 misses.\n",
            "\n",
            "Senapathy (Kamal Haasan), who reaches Hong Kong at the end of Indian, is now in Taiwan, the land where his idol Subhas Chandra Bose died. While those who waited for Bose’s return never got to see that, a bunch of YouTubers, disillusioned by corruption, trend #ComeBackIndian on social media causing the veteran to return to his homeland. While everyone expects him to serve justice with his belt buckle knife, he first asks the country’s youngsters to call out the corrupt folks in their own households because... cleaning starts at home.\n",
            "\n",
            "Indian 2 (Tamil) Director: Shankar Cast: Kamal Haasan, Siddharth, Rakul Preet Singh, SJ Suryah, Bobby Simha, Vivek, Priya Bhavani Shankar Runtime: 180 minutes Storyline: Witnessing corruption and scams once again rearing their ugly heads, Senapathy returns to his homeland to finish what he started\n",
            "\n",
            "Probably the biggest takeaway of Indian 2 is how the sequel tries to shed light on the people behind corruption and the aftermath of ratting out on those near and dear; lives are lost and families are broken. The very idea of focusing on the aftermath of being straight as an arrow, something which Shankar toyed with the death of Senapathy’s daughter in the first part, makes for an endearing ethical dilemma that our ‘Indian’ and ‘Indians’ who count on him had to encounter. But this idea, unlike Senapathy’s knife, barely scratches the surface.\n",
            "\n",
            "What we are left with are templates that we once used to love in Shankar’s films — grand sets, songs in exotic locales, and huge action set pieces, as well as tropes we long-hoped the veteran would let go of. Cringed at the gross portrayal of the trans makeup artist from I? There’s an unnecessarily problematic scene here where our hero, with his varma kalai, makes a womaniser/rich man act effeminate. Remember the “kuppathu porikki pasanga” stereotype from Mudhalvan? Now they’re apparently youngsters with bright-coloured hair hiding behind the anonymity of the Internet and abusing people online. Ever accessed the government’s welfare schemes, dubbed freebies? Well, according to the film, you should be ashamed of being bribed to overlook substandard governance.\n",
            "\n",
            "A scene features an unskilled doctor looking for the patient’s appendix while operating on her from her back. The film milks this caricaturish portrayal of a doctor for an emotional sequence. But it strays away from talking about more pressing issues like the NEET fiasco that’s straining the future of medical professionals in the country. In another instance, Shankar equates the snitching of a man taking lakhs of rupees as a bribe with a fisherwoman who is caught for adding weight to increase her catch’s price. In the filmmaker’s Garuda Purana — as Anniyan mentions in his film — crime is not a vest to be measured as small, large and extra large. While a similar wealthy official who gets arrested for corruption walks scot-free the same day, the film never tells us the fate of those caught akin to the fisherwoman. Shankar’s solutions to issues have mostly been authoritative and idealistic, but they seldom look at the grassroots-level causes behind them. Yet, his skewered take on everyday issues is the least of Indian 2’s worries.\n",
            "\n",
            "Unlike Indian, the sequel takes the war against corruption across the country. You know the film isn’t fooling around when the smoking and drinking statutory warnings are replaced with a line that goes, “Corruption causes cancer to the nation”. While the film showcases a rogues’ gallery of villains from different states— indulging in everything from granite scams to recruitment scams — none of the punishments meted out to them feel as cathartic as the ones we saw in the original film. The fact that they range from singing non-stop till they drop dead or running like a horse (complete with neighing noises, I kid you not) till they die of exhaustion isn’t exactly as menacing as what Shankar does with villains in his older films.\n",
            "\n",
            "Apart from Kamal, it’s Siddharth along with his gang of friends, played by Priya Bhavani Shankar, Jagan and Rishikanth, who get most of the screen-time, but their trials and tribulations never hit us hard, unlike what the character of Manorama goes through in Indian. The fact that all it takes is one worldwide trending hashtag, #ComeBackIndian, for Senapathy to end his vanavaas and come to India, and another trend #GoBackIndian for the whole nation to vouch against our hero, feels extremely artificial.\n",
            "\n",
            "What hurts the most are two aspects: how the grandeur Shankar is known for falls like a house of cards when not backed with a sturdy plot and how the very character of Senapathy is altered to make the umpteen theories that floated online before the film’s release sound better. For starters, the visually stunning ‘Calendar Song’, or any song for that matter, add no value to the film. And when Senapathy, chased by a gang of goons, runs inside a glass-making company, you can almost hear late Vivek’s line from Vedi, “Welcome to fight location” in your ears. Senapathy, in 1996’s Indian, was an old, hunched man whose superpower, apart from varma kalai, was to look like any other individual and that gave him the cover to make his kills and escape without a trace. In Indian 2, though, he’s seen jumping walls, intruding impenetrable places, fighting an assemblage of baddies and even escaping with an electric unicycle in a tediously long chase sequence.\n",
            "\n",
            "A brilliant Krishnaswamy (Nedumudi Venu) proved to be a worthy enemy to Senapathy in the original film. But in Indian 2, his son Pramod (Bobby Simha) is just another typical Tamil film cop primarily used by Senapathy to call out nepotism similar to varisu arasiyal. Similarly, SJ Suryah, who we assume is the main antagonist in the next sequel, appears merely for seconds just like other veterans like Brahmanandam. Even the dialogues don’t work in favour of the film; we are attacked with lines like ‘idhu karumam illa, varumam’ and ‘soththu kaga oduna nee ippo death kaga odu’.\n",
            "\n",
            "Finally, you know a film is in deep trouble these days when even Anirudh can’t salvage it with his score. Interestingly, Indian 2 reuses a lot of AR Rahman’s original score; not only does it work brilliantly, but also makes for some of the best moments in the film.\n",
            "\n",
            "And speaking of earlier outings, the references to Shankar and Kamal’s previous works, especially Indian, are aplenty, including a homage of sorts to Goundamani and Senthil. But despite a barrage of ideas that usually work wonders in Shankar’s projects, most of them fall flat thanks to an uninteresting treatment that stretches the sequel to two films. A glimpse at the end teases what’s in store in Indian 3.... this 140-odd-second clip delivers what the 180-minute film couldn’t. Banking on the nostalgic value of its predecessor and a visibly intriguing sequel that’s coming up next year, Indian 2 struggles to be relevant and entertaining. More than #ComeBackIndian, we hope Indian 3 will be a comeback for the veteran filmmaker and the legendary actor.\n",
            "\n",
            "Indian 2 is currently running in theatres\n"
          ]
        }
      ]
    },
    {
      "cell_type": "code",
      "source": [
        "review_template = \"\"\" From the text of a movie review below extract the following information \\\n",
        "and format the output as JSON with the below keys. Left of colons(:) below is the key and right of colons(:) is a description of that to extract: \\\n",
        "movie: name of the movie, \\\n",
        "director: if you are able to guess who the director is, \\\n",
        "plot: A few lines of the plot, \\\n",
        "cast: lead cast and crew of the movie, \\\n",
        "lanuage: language of the movie, \\\n",
        "genre: genre of the movie, \\\n",
        "review: summaize the review, \\\n",
        "reviewer: name of the reviewer, \\\n",
        "rating: rate the movie yourself based on the review,\n",
        "good: what is positive in the movie,\n",
        "bad: what is negative in the movie.\n",
        "text: {text}\"\"\"\n"
      ],
      "metadata": {
        "id": "L_GREdsOtaO5"
      },
      "execution_count": 74,
      "outputs": []
    },
    {
      "cell_type": "code",
      "source": [],
      "metadata": {
        "id": "ez14j8KlF6tn"
      },
      "execution_count": 74,
      "outputs": []
    },
    {
      "cell_type": "code",
      "source": [
        "from langchain.prompts import ChatPromptTemplate\n",
        "\n",
        "prompt_template = ChatPromptTemplate.from_template(review_template)\n",
        "print(prompt_template)"
      ],
      "metadata": {
        "colab": {
          "base_uri": "https://localhost:8080/"
        },
        "id": "NrezUHbgutbJ",
        "outputId": "7014566b-955e-4685-88b8-e73d41196e98"
      },
      "execution_count": 75,
      "outputs": [
        {
          "output_type": "stream",
          "name": "stdout",
          "text": [
            "input_variables=['text'] input_types={} partial_variables={} messages=[HumanMessagePromptTemplate(prompt=PromptTemplate(input_variables=['text'], input_types={}, partial_variables={}, template=' From the text of a movie review below extract the following information and format the output as JSON with the below keys. Left of colons(:) below is the key and right of colons(:) is a description of that to extract: movie: name of the movie, director: if you are able to guess who the director is, plot: A few lines of the plot, cast: lead cast and crew of the movie, lanuage: language of the movie, genre: genre of the movie, review: summaize the review, reviewer: name of the reviewer, rating: rate the movie yourself based on the review,\\ngood: what is positive in the movie,\\nbad: what is negative in the movie.\\ntext: {text}'), additional_kwargs={})]\n"
          ]
        }
      ]
    },
    {
      "cell_type": "code",
      "source": [
        "#Simple JSON Output\n",
        "messages = prompt_template.format_messages(text=review_text)\n",
        "chat = ChatOpenAI(temperature=0.0, model=llm_model, openai_api_key=os.environ['OPEN_API_KEY'])\n",
        "response = chat(messages)\n",
        "print(response.content)"
      ],
      "metadata": {
        "colab": {
          "base_uri": "https://localhost:8080/"
        },
        "id": "N6y_5QDlvdWI",
        "outputId": "335a72be-9203-47e5-c82b-db85ec2656a1"
      },
      "execution_count": 76,
      "outputs": [
        {
          "output_type": "stream",
          "name": "stdout",
          "text": [
            "{\n",
            "    \"movie\": \"Indian 2\",\n",
            "    \"director\": \"Shankar\",\n",
            "    \"plot\": \"Witnessing corruption and scams once again rearing their ugly heads, Senapathy returns to his homeland to finish what he started\",\n",
            "    \"cast\": [\"Kamal Haasan\", \"Siddharth\", \"Rakul Preet Singh\", \"SJ Suryah\", \"Bobby Simha\", \"Vivek\", \"Priya Bhavani Shankar\"],\n",
            "    \"language\": \"Tamil\",\n",
            "    \"genre\": \"Action, Drama\",\n",
            "    \"review\": \"Indian 2 struggles to be relevant and entertaining, lacking the grandeur and depth of its predecessor. The film falls short in terms of plot and character development.\",\n",
            "    \"reviewer\": \"Unknown\",\n",
            "    \"rating\": 2,\n",
            "    \"good\": \"References to Shankar and Kamal's previous works, some moments with AR Rahman's original score\",\n",
            "    \"bad\": \"Lack of depth in plot, uninteresting treatment of characters, unrealistic sequences\"\n",
            "}\n"
          ]
        }
      ]
    },
    {
      "cell_type": "code",
      "source": [
        "#Using Structured Output Parser\n",
        "review_schema = ResponseSchema(name=\"review\",\n",
        "                             description=\"summarize the review\")\n",
        "reviewer_schema = ResponseSchema(name=\"reviewer\",\n",
        "                             description=\"name of the reviewer\")\n",
        "movie_schema = ResponseSchema(name=\"movie\",\n",
        "                             description=\"name of the movie\")\n",
        "director_schema = ResponseSchema(name=\"director\",\n",
        "                             description=\"if you are able to guess who the director is\")\n",
        "plot_schema = ResponseSchema(name=\"plot\",\n",
        "                             description=\"A few lines of the plot\")\n",
        "cast_schema = ResponseSchema(name=\"cast\",\n",
        "                             description=\"lead cast and crew of the movie\")\n",
        "language_schema = ResponseSchema(name=\"language\",\n",
        "                             description=\"language of the movie\")\n",
        "genre_schema = ResponseSchema(name=\"genre\",\n",
        "                             description=\"genre of the movie\")\n",
        "rating_schema = ResponseSchema(name=\"rating\",\n",
        "                             description=\"rate the movie yourself based on the review\")\n",
        "good_schema = ResponseSchema(name=\"good\",\n",
        "                             description=\"what is positive in the movie\")\n",
        "bad_schema = ResponseSchema(name=\"bad\",\n",
        "                             description=\"what is negative in the movie\")\n",
        "response_schemas = [review_schema,\n",
        "                    reviewer_schema,\n",
        "                    movie_schema,\n",
        "                    director_schema,\n",
        "                    plot_schema,\n",
        "                    cast_schema,\n",
        "                    language_schema,\n",
        "                    genre_schema,\n",
        "                    rating_schema,\n",
        "                    good_schema,\n",
        "                    bad_schema]\n",
        "output_parser = StructuredOutputParser.from_response_schemas(response_schemas)\n",
        "format_instructions = output_parser.get_format_instructions()\n",
        "print(format_instructions)"
      ],
      "metadata": {
        "colab": {
          "base_uri": "https://localhost:8080/"
        },
        "id": "AgjqG9ZN_nS_",
        "outputId": "4378a0af-8294-4ace-cb3f-3818747d57a0"
      },
      "execution_count": 77,
      "outputs": [
        {
          "output_type": "stream",
          "name": "stdout",
          "text": [
            "The output should be a markdown code snippet formatted in the following schema, including the leading and trailing \"```json\" and \"```\":\n",
            "\n",
            "```json\n",
            "{\n",
            "\t\"review\": string  // summarize the review\n",
            "\t\"reviewer\": string  // name of the reviewer\n",
            "\t\"movie\": string  // name of the movie\n",
            "\t\"director\": string  // if you are able to guess who the director is\n",
            "\t\"plot\": string  // A few lines of the plot\n",
            "\t\"cast\": string  // lead cast and crew of the movie\n",
            "\t\"language\": string  // language of the movie\n",
            "\t\"genre\": string  // genre of the movie\n",
            "\t\"rating\": string  // rate the movie yourself based on the review\n",
            "\t\"good\": string  // what is positive in the movie\n",
            "\t\"bad\": string  // what is negative in the movie\n",
            "}\n",
            "```\n"
          ]
        }
      ]
    },
    {
      "cell_type": "code",
      "source": [
        "review_template = \"\"\" From the text of a movie review below output the following information in JSON \\\n",
        "text: {text}\n",
        "{format_instructions}\"\"\"\n",
        "\n",
        "prompt_template = ChatPromptTemplate.from_template(review_template)\n",
        "messages = prompt_template.format_messages(text=review_text, format_instructions=format_instructions)\n",
        "print(messages[0].content)\n",
        "response = chat(messages)\n",
        "print(response.content)\n",
        "\n",
        "#Convert the response into a python dictionary\n",
        "\n",
        "output_dict = output_parser.parse(response.content)\n",
        "output_dict\n",
        "type(output_dict)\n",
        "\n",
        "print(f\"Movie rating is: {output_dict.get('rating')}\")\n"
      ],
      "metadata": {
        "colab": {
          "base_uri": "https://localhost:8080/"
        },
        "id": "v4lsaTTxF9FI",
        "outputId": "8970ba68-dcb8-464e-d1a0-9bd67f5fefad"
      },
      "execution_count": 78,
      "outputs": [
        {
          "output_type": "stream",
          "name": "stdout",
          "text": [
            " From the text of a movie review below output the following information in JSON text: After making his debut with the Robin Hood-esque Gentleman and mounting a simple love story on a complex political backdrop with his sophomore film Kadhalan, director Shankar dialled it up to eleven with his third film, Indian. Apart from the trope of a former freedom fighter taking up arms against those decimating his country, the poignant backstory gave the titular hero a reason to turn vigilante, a cause worth sacrificing even his own son. This sense of emotional turmoil the character had and the empathy it rightfully extracted from us are just some of the many crucial elements that the sequel Indian 2 misses.\n",
            "\n",
            "Senapathy (Kamal Haasan), who reaches Hong Kong at the end of Indian, is now in Taiwan, the land where his idol Subhas Chandra Bose died. While those who waited for Bose’s return never got to see that, a bunch of YouTubers, disillusioned by corruption, trend #ComeBackIndian on social media causing the veteran to return to his homeland. While everyone expects him to serve justice with his belt buckle knife, he first asks the country’s youngsters to call out the corrupt folks in their own households because... cleaning starts at home.\n",
            "\n",
            "Indian 2 (Tamil) Director: Shankar Cast: Kamal Haasan, Siddharth, Rakul Preet Singh, SJ Suryah, Bobby Simha, Vivek, Priya Bhavani Shankar Runtime: 180 minutes Storyline: Witnessing corruption and scams once again rearing their ugly heads, Senapathy returns to his homeland to finish what he started\n",
            "\n",
            "Probably the biggest takeaway of Indian 2 is how the sequel tries to shed light on the people behind corruption and the aftermath of ratting out on those near and dear; lives are lost and families are broken. The very idea of focusing on the aftermath of being straight as an arrow, something which Shankar toyed with the death of Senapathy’s daughter in the first part, makes for an endearing ethical dilemma that our ‘Indian’ and ‘Indians’ who count on him had to encounter. But this idea, unlike Senapathy’s knife, barely scratches the surface.\n",
            "\n",
            "What we are left with are templates that we once used to love in Shankar’s films — grand sets, songs in exotic locales, and huge action set pieces, as well as tropes we long-hoped the veteran would let go of. Cringed at the gross portrayal of the trans makeup artist from I? There’s an unnecessarily problematic scene here where our hero, with his varma kalai, makes a womaniser/rich man act effeminate. Remember the “kuppathu porikki pasanga” stereotype from Mudhalvan? Now they’re apparently youngsters with bright-coloured hair hiding behind the anonymity of the Internet and abusing people online. Ever accessed the government’s welfare schemes, dubbed freebies? Well, according to the film, you should be ashamed of being bribed to overlook substandard governance.\n",
            "\n",
            "A scene features an unskilled doctor looking for the patient’s appendix while operating on her from her back. The film milks this caricaturish portrayal of a doctor for an emotional sequence. But it strays away from talking about more pressing issues like the NEET fiasco that’s straining the future of medical professionals in the country. In another instance, Shankar equates the snitching of a man taking lakhs of rupees as a bribe with a fisherwoman who is caught for adding weight to increase her catch’s price. In the filmmaker’s Garuda Purana — as Anniyan mentions in his film — crime is not a vest to be measured as small, large and extra large. While a similar wealthy official who gets arrested for corruption walks scot-free the same day, the film never tells us the fate of those caught akin to the fisherwoman. Shankar’s solutions to issues have mostly been authoritative and idealistic, but they seldom look at the grassroots-level causes behind them. Yet, his skewered take on everyday issues is the least of Indian 2’s worries.\n",
            "\n",
            "Unlike Indian, the sequel takes the war against corruption across the country. You know the film isn’t fooling around when the smoking and drinking statutory warnings are replaced with a line that goes, “Corruption causes cancer to the nation”. While the film showcases a rogues’ gallery of villains from different states— indulging in everything from granite scams to recruitment scams — none of the punishments meted out to them feel as cathartic as the ones we saw in the original film. The fact that they range from singing non-stop till they drop dead or running like a horse (complete with neighing noises, I kid you not) till they die of exhaustion isn’t exactly as menacing as what Shankar does with villains in his older films.\n",
            "\n",
            "Apart from Kamal, it’s Siddharth along with his gang of friends, played by Priya Bhavani Shankar, Jagan and Rishikanth, who get most of the screen-time, but their trials and tribulations never hit us hard, unlike what the character of Manorama goes through in Indian. The fact that all it takes is one worldwide trending hashtag, #ComeBackIndian, for Senapathy to end his vanavaas and come to India, and another trend #GoBackIndian for the whole nation to vouch against our hero, feels extremely artificial.\n",
            "\n",
            "What hurts the most are two aspects: how the grandeur Shankar is known for falls like a house of cards when not backed with a sturdy plot and how the very character of Senapathy is altered to make the umpteen theories that floated online before the film’s release sound better. For starters, the visually stunning ‘Calendar Song’, or any song for that matter, add no value to the film. And when Senapathy, chased by a gang of goons, runs inside a glass-making company, you can almost hear late Vivek’s line from Vedi, “Welcome to fight location” in your ears. Senapathy, in 1996’s Indian, was an old, hunched man whose superpower, apart from varma kalai, was to look like any other individual and that gave him the cover to make his kills and escape without a trace. In Indian 2, though, he’s seen jumping walls, intruding impenetrable places, fighting an assemblage of baddies and even escaping with an electric unicycle in a tediously long chase sequence.\n",
            "\n",
            "A brilliant Krishnaswamy (Nedumudi Venu) proved to be a worthy enemy to Senapathy in the original film. But in Indian 2, his son Pramod (Bobby Simha) is just another typical Tamil film cop primarily used by Senapathy to call out nepotism similar to varisu arasiyal. Similarly, SJ Suryah, who we assume is the main antagonist in the next sequel, appears merely for seconds just like other veterans like Brahmanandam. Even the dialogues don’t work in favour of the film; we are attacked with lines like ‘idhu karumam illa, varumam’ and ‘soththu kaga oduna nee ippo death kaga odu’.\n",
            "\n",
            "Finally, you know a film is in deep trouble these days when even Anirudh can’t salvage it with his score. Interestingly, Indian 2 reuses a lot of AR Rahman’s original score; not only does it work brilliantly, but also makes for some of the best moments in the film.\n",
            "\n",
            "And speaking of earlier outings, the references to Shankar and Kamal’s previous works, especially Indian, are aplenty, including a homage of sorts to Goundamani and Senthil. But despite a barrage of ideas that usually work wonders in Shankar’s projects, most of them fall flat thanks to an uninteresting treatment that stretches the sequel to two films. A glimpse at the end teases what’s in store in Indian 3.... this 140-odd-second clip delivers what the 180-minute film couldn’t. Banking on the nostalgic value of its predecessor and a visibly intriguing sequel that’s coming up next year, Indian 2 struggles to be relevant and entertaining. More than #ComeBackIndian, we hope Indian 3 will be a comeback for the veteran filmmaker and the legendary actor.\n",
            "\n",
            "Indian 2 is currently running in theatres\n",
            "The output should be a markdown code snippet formatted in the following schema, including the leading and trailing \"```json\" and \"```\":\n",
            "\n",
            "```json\n",
            "{\n",
            "\t\"review\": string  // summarize the review\n",
            "\t\"reviewer\": string  // name of the reviewer\n",
            "\t\"movie\": string  // name of the movie\n",
            "\t\"director\": string  // if you are able to guess who the director is\n",
            "\t\"plot\": string  // A few lines of the plot\n",
            "\t\"cast\": string  // lead cast and crew of the movie\n",
            "\t\"language\": string  // language of the movie\n",
            "\t\"genre\": string  // genre of the movie\n",
            "\t\"rating\": string  // rate the movie yourself based on the review\n",
            "\t\"good\": string  // what is positive in the movie\n",
            "\t\"bad\": string  // what is negative in the movie\n",
            "}\n",
            "```\n",
            "```json\n",
            "{\n",
            "\t\"review\": \"The sequel to the iconic Indian struggles to live up to its predecessor, lacking in plot and character development.\",\n",
            "\t\"reviewer\": \"Unknown\",\n",
            "\t\"movie\": \"Indian 2\",\n",
            "\t\"director\": \"Shankar\",\n",
            "\t\"plot\": \"Senapathy returns to his homeland to fight against corruption once again, but this time the consequences are more severe.\",\n",
            "\t\"cast\": \"Kamal Haasan, Siddharth, Rakul Preet Singh, SJ Suryah, Bobby Simha, Vivek, Priya Bhavani Shankar\",\n",
            "\t\"language\": \"Tamil\",\n",
            "\t\"genre\": \"Action, Drama\",\n",
            "\t\"rating\": \"2/5\",\n",
            "\t\"good\": \"References to the original film, reuse of AR Rahman's score\",\n",
            "\t\"bad\": \"Lack of plot development, uninteresting treatment, artificial character changes\"\n",
            "}\n",
            "```\n",
            "Movie rating is: 2/5\n"
          ]
        }
      ]
    }
  ]
}